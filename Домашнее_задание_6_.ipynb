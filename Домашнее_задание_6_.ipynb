{
  "nbformat": 4,
  "nbformat_minor": 0,
  "metadata": {
    "colab": {
      "provenance": [],
      "authorship_tag": "ABX9TyN3lH5wf1o2HKA3SGCosLSp",
      "include_colab_link": true
    },
    "kernelspec": {
      "name": "python3",
      "display_name": "Python 3"
    },
    "language_info": {
      "name": "python"
    }
  },
  "cells": [
    {
      "cell_type": "markdown",
      "metadata": {
        "id": "view-in-github",
        "colab_type": "text"
      },
      "source": [
        "<a href=\"https://colab.research.google.com/github/tlcty/collab/blob/main/%D0%94%D0%BE%D0%BC%D0%B0%D1%88%D0%BD%D0%B5%D0%B5_%D0%B7%D0%B0%D0%B4%D0%B0%D0%BD%D0%B8%D0%B5_6_.ipynb\" target=\"_parent\"><img src=\"https://colab.research.google.com/assets/colab-badge.svg\" alt=\"Open In Colab\"/></a>"
      ]
    },
    {
      "cell_type": "code",
      "source": [
        "import csv\n",
        "import gdown\n",
        "import json\n",
        "\n",
        "def download_file_from_google_drive(url, output):\n",
        "    gdown.download(url, output, quiet=False)\n",
        "\n",
        "# чтение и обработка логов покупок в JSON\n",
        "def read_purchase_log(file_path):\n",
        "    # Читает JSON покупок и возвращает словарь с user_id и категориями покупок\n",
        "    purchase_log = {}\n",
        "    with open(file_path, 'r', encoding='utf-8') as file:\n",
        "        for line in file:\n",
        "            # Преобразуем строку в словарь\n",
        "            log_entry = json.loads(line)\n",
        "            user_id = log_entry['user_id']\n",
        "            category = log_entry['category']\n",
        "            purchase_log[user_id] = category\n",
        "    return purchase_log\n",
        "\n",
        "# обработка visit_log.csv и записи funnel.csv\n",
        "def process_visit_log_and_create_funnel(visit_log_path, purchase_log, output_funnel_path):\n",
        "    # обработка лога визитов и создание файла funnel.csv с категорией покупки\n",
        "    with open(visit_log_path, 'r', encoding='utf-8') as visit_file, \\\n",
        "         open(output_funnel_path, 'w', encoding='utf-8', newline='') as funnel_file:\n",
        "\n",
        "        visit_reader = csv.DictReader(visit_file)\n",
        "        fieldnames = ['user_id', 'source', 'category']\n",
        "        funnel_writer = csv.DictWriter(funnel_file, fieldnames=fieldnames)\n",
        "        funnel_writer.writeheader()\n",
        "\n",
        "        # обработка каждого визита\n",
        "        for row in visit_reader:\n",
        "            user_id = row['user_id']\n",
        "            # иф для user_id есть категория покупки\n",
        "            if user_id in purchase_log:\n",
        "                # запишем визит с категорией покупки\n",
        "                funnel_writer.writerow({\n",
        "                    'user_id': user_id,\n",
        "                    'source': row['source'],\n",
        "                    'category': purchase_log[user_id]\n",
        "                })\n",
        "\n",
        "# загрузка и обработка данных\n",
        "def run_data_processing():\n",
        "    # тащим все из гугл диска\n",
        "    visit_log_url = 'https://drive.google.com/uc?id=1nAUgrfXWmfZy9qJ548vps6iY5XMjTIot'\n",
        "    purchase_log_url = 'https://drive.google.com/uc?id=1nN616pwEUW3ABcTrJOEwznIyvVtVzKiR'\n",
        "\n",
        "    visit_log_output = 'visit_log.csv'\n",
        "    purchase_log_output = 'purchase_log.json'  # сохраняем логи в .json\n",
        "\n",
        "    download_file_from_google_drive(visit_log_url, visit_log_output)\n",
        "    download_file_from_google_drive(purchase_log_url, purchase_log_output)\n",
        "\n",
        "    # Чтение лога покупок и создание словаря user_id: категория\n",
        "    purchase_log = read_purchase_log(purchase_log_output)\n",
        "\n",
        "    # бработка логов визитов и создание funnel.csv\n",
        "    output_funnel_file = 'funnel.csv'\n",
        "    process_visit_log_and_create_funnel(visit_log_output, purchase_log, output_funnel_file)\n",
        "\n",
        "    print(f\"Файл funnel.csv успешно создан, ищите его слева во вкладке Files\")\n",
        "\n",
        "def main():\n",
        "    run_data_processing()\n",
        "\n",
        "# Запуск\n",
        "if __name__ == \"__main__\":\n",
        "    main()\n"
      ],
      "metadata": {
        "colab": {
          "base_uri": "https://localhost:8080/"
        },
        "id": "D2MHeepSNqUv",
        "outputId": "593dcf74-4e8e-4317-e2bd-d9c1a5f9ad97"
      },
      "execution_count": 11,
      "outputs": [
        {
          "output_type": "stream",
          "name": "stderr",
          "text": [
            "Downloading...\n",
            "From: https://drive.google.com/uc?id=1nAUgrfXWmfZy9qJ548vps6iY5XMjTIot\n",
            "To: /content/visit_log.csv\n",
            "100%|██████████| 3.50M/3.50M [00:00<00:00, 202MB/s]\n",
            "Downloading...\n",
            "From: https://drive.google.com/uc?id=1nN616pwEUW3ABcTrJOEwznIyvVtVzKiR\n",
            "To: /content/purchase_log.json\n",
            "100%|██████████| 6.62M/6.62M [00:00<00:00, 268MB/s]\n"
          ]
        },
        {
          "output_type": "stream",
          "name": "stdout",
          "text": [
            "Файл funnel.csv успешно создан, ищите его слева во вкладке Files\n"
          ]
        }
      ]
    }
  ]
}