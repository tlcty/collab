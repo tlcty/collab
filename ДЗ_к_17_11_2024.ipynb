{
  "nbformat": 4,
  "nbformat_minor": 0,
  "metadata": {
    "colab": {
      "provenance": [],
      "authorship_tag": "ABX9TyOtQytRgJ2HWhWRoyCYXGG4",
      "include_colab_link": true
    },
    "kernelspec": {
      "name": "python3",
      "display_name": "Python 3"
    },
    "language_info": {
      "name": "python"
    }
  },
  "cells": [
    {
      "cell_type": "markdown",
      "metadata": {
        "id": "view-in-github",
        "colab_type": "text"
      },
      "source": [
        "<a href=\"https://colab.research.google.com/github/tlcty/collab/blob/main/%D0%94%D0%97_%D0%BA_17_11_2024.ipynb\" target=\"_parent\"><img src=\"https://colab.research.google.com/assets/colab-badge.svg\" alt=\"Open In Colab\"/></a>"
      ]
    },
    {
      "cell_type": "code",
      "source": [
        "\n",
        "# Печатные газеты использовали свой формат дат для каждого выпуска.\n",
        "# Для каждой газеты из списка напишите формат указанной даты для перевода в объект datetime:\n",
        "\n",
        "# The Moscow Times — Wednesday, October 2, 2002\n",
        "# The Guardian — Friday, 11.10.13\n",
        "# Daily News — Thursday, 18 August 1977\n",
        "\n",
        "# Пример работы программы\n",
        "# Программа должна выводить на экран объекты типа datetime, соответствующие датам в условии задачи.\n",
        "# Также программа должна работать итерационно, а именно: принимать входные данные до момента ввода специального символа завершения программы.\n",
        "# Если введённое значение не соответствует ни одному формату, то следует продолжать выполнение программы, переходя на следующую итерацию.\n",
        "# Безопасный переход следует реализовать с помощью механизма исключений.\n",
        "\n",
        "from datetime import datetime\n",
        "\n",
        "# словарь с форматами дат для каждой газеты\n",
        "date_formats = {\n",
        "    \"The Moscow Times\": \"%A, %B %d, %Y\",\n",
        "    \"The Guardian\": \"%A, %d.%m.%y\",\n",
        "    \"Daily News\": \"%A, %d %B %Y\"\n",
        "}\n",
        "\n",
        "def parse_date(input_str):\n",
        "    # перебираем доступные форматы дат и пробуем парсить\n",
        "    for newspaper, date_format in date_formats.items():\n",
        "        try:\n",
        "            date_obj = datetime.strptime(input_str, date_format)\n",
        "            print(f\"{newspaper}: {date_obj}\")\n",
        "            return\n",
        "        except ValueError:\n",
        "            pass # скипаем ошибку value error, если формат не подходит\n",
        "    print(\"Повторите попытку. Указан неверный формат даты.\")\n",
        "\n",
        "while True:\n",
        "    user_input = input(\"Введите дату или 'exit': \")\n",
        "    if user_input.lower() == 'exit':\n",
        "        break\n",
        "    parse_date(user_input)"
      ],
      "metadata": {
        "id": "Eli3suSr0XN_"
      },
      "execution_count": null,
      "outputs": []
    },
    {
      "cell_type": "code",
      "source": [],
      "metadata": {
        "id": "rG1HzeA32yR8"
      },
      "execution_count": null,
      "outputs": []
    }
  ]
}