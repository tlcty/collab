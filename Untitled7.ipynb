{
  "nbformat": 4,
  "nbformat_minor": 0,
  "metadata": {
    "colab": {
      "provenance": [],
      "authorship_tag": "ABX9TyPw0uteloHjwF8mCgLW/1mR",
      "include_colab_link": true
    },
    "kernelspec": {
      "name": "python3",
      "display_name": "Python 3"
    },
    "language_info": {
      "name": "python"
    }
  },
  "cells": [
    {
      "cell_type": "markdown",
      "metadata": {
        "id": "view-in-github",
        "colab_type": "text"
      },
      "source": [
        "<a href=\"https://colab.research.google.com/github/tlcty/collab/blob/main/Untitled7.ipynb\" target=\"_parent\"><img src=\"https://colab.research.google.com/assets/colab-badge.svg\" alt=\"Open In Colab\"/></a>"
      ]
    },
    {
      "cell_type": "code",
      "execution_count": null,
      "metadata": {
        "id": "l_9dholaXWhk"
      },
      "outputs": [],
      "source": [
        "def check_word():\n",
        "    word = input(\"Введите слово, состоящее только из латинских букв: \")\n",
        "\n",
        "    if word.isalpha() and all('a' <= c <= 'z' or 'A' <= c <= 'Z' for c in word):\n",
        "        length = len(word)\n",
        "\n",
        "        if length % 2 == 0:\n",
        "            middle1 = word[length // 2 - 1]\n",
        "            middle2 = word[length // 2]\n",
        "            print(f\"Результат: {middle1 + middle2}\")\n",
        "\n",
        "        else:\n",
        "            middle = word[length // 2]\n",
        "            print(f\"Результат: {middle}\")\n",
        "    else:\n",
        "        print(\"Ошибка: введённое слово должно содержать только латинские буквы.\")\n",
        "\n",
        "check_word()"
      ]
    },
    {
      "cell_type": "code",
      "source": [
        "def match_pairs(boys, girls):\n",
        "    if len(boys) != len(girls):\n",
        "        print(\"Внимание, кто-то может остаться без пары.\")\n",
        "        return\n",
        "\n",
        "    boys_sorted = sorted(boys)\n",
        "    girls_sorted = sorted(girls)\n",
        "\n",
        "    print(\"Идеальные пары:\")\n",
        "    for boy, girl in zip(boys_sorted, girls_sorted):\n",
        "        print(f\"{boy} и {girl}\")\n",
        "\n",
        "boys1 = ['Peter', 'Alex', 'John', 'Arthur', 'Richard']\n",
        "girls1 = ['Kate', 'Liza', 'Kira', 'Emma', 'Trisha']\n",
        "print(f\"Пример 1:\")\n",
        "match_pairs(boys1, girls1)\n",
        "\n",
        "boys2 = ['Peter', 'Alex', 'John', 'Arthur', 'Richard', 'Michael']\n",
        "girls2 = ['Kate', 'Liza', 'Kira', 'Emma', 'Trisha']\n",
        "print(f\"\\n\\nПример 2:\")\n",
        "match_pairs(boys2, girls2)"
      ],
      "metadata": {
        "colab": {
          "base_uri": "https://localhost:8080/"
        },
        "id": "YIrD7gOkbZ97",
        "outputId": "9d194bee-928b-4de2-edc3-d008020ffb33"
      },
      "execution_count": 6,
      "outputs": [
        {
          "output_type": "stream",
          "name": "stdout",
          "text": [
            "Пример 1:\n",
            "Идеальные пары:\n",
            "Alex и Emma\n",
            "Arthur и Kate\n",
            "John и Kira\n",
            "Peter и Liza\n",
            "Richard и Trisha\n",
            "\n",
            "\n",
            "Пример 2:\n",
            "Внимание, кто-то может остаться без пары.\n"
          ]
        }
      ]
    }
  ]
}