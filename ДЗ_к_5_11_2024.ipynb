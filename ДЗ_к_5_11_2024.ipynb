{
  "nbformat": 4,
  "nbformat_minor": 0,
  "metadata": {
    "colab": {
      "provenance": [],
      "authorship_tag": "ABX9TyO6VYErg1puokfLDjB8lYFN",
      "include_colab_link": true
    },
    "kernelspec": {
      "name": "python3",
      "display_name": "Python 3"
    },
    "language_info": {
      "name": "python"
    }
  },
  "cells": [
    {
      "cell_type": "markdown",
      "metadata": {
        "id": "view-in-github",
        "colab_type": "text"
      },
      "source": [
        "<a href=\"https://colab.research.google.com/github/tlcty/collab/blob/main/%D0%94%D0%97_%D0%BA_5_11_2024.ipynb\" target=\"_parent\"><img src=\"https://colab.research.google.com/assets/colab-badge.svg\" alt=\"Open In Colab\"/></a>"
      ]
    },
    {
      "cell_type": "code",
      "execution_count": null,
      "metadata": {
        "id": "ko9t9BSr6wdJ"
      },
      "outputs": [],
      "source": [
        "def move_disk(disk, source, target):\n",
        "    return f\"Переместить диск {disk} со стержня {source} на стержень {target}\"\n",
        "\n",
        "def hanoi_recursive(n, source, target, auxiliary):\n",
        "    if n == 1:\n",
        "        return [move_disk(1, source, target)]\n",
        "    else:\n",
        "        moves = hanoi_recursive(n - 1, source, auxiliary, target)\n",
        "        moves.append(move_disk(n, source, target))\n",
        "        moves.extend(hanoi_recursive(n - 1, auxiliary, target, source))\n",
        "        return moves\n",
        "\n",
        "def input_initial_conditions():\n",
        "    while True:\n",
        "        try:\n",
        "            num_disks = int(input(\"количество дисков: \"))\n",
        "            if num_disks < 1:\n",
        "                raise ValueError(\"Количество должно быть больше 0.\")\n",
        "            break\n",
        "        except ValueError as e:\n",
        "            print(f\"Ошибка: {e}\")\n",
        "    return num_disks\n",
        "\n",
        "def write_solution_to_file(moves, filename=\"решение.txt\"):\n",
        "    with open(filename, \"w\", encoding=\"utf-8\") as file:\n",
        "        for move in moves:\n",
        "            file.write(move + \"\\n\")\n",
        "    print(f\"\\nРешение записано в файл '{filename}'.\")\n",
        "\n",
        "def main():\n",
        "    num_disks = input_initial_conditions()\n",
        "    num_rods = 3  # Фиксированное количество стержней для классической задачи\n",
        "\n",
        "    # Получаем список всех ходов\n",
        "    moves = hanoi_recursive(num_disks, 1, 3, 2)\n",
        "\n",
        "    # Печать решений\n",
        "    for move in moves:\n",
        "        print(move)\n",
        "\n",
        "    # Запись решений в файл\n",
        "    write_solution_to_file(moves)\n",
        "\n",
        "if __name__ == \"__main__\":\n",
        "    main()\n"
      ]
    }
  ]
}