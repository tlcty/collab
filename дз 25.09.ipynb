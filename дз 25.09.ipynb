{
  "cells": [
    {
      "cell_type": "markdown",
      "metadata": {
        "id": "view-in-github",
        "colab_type": "text"
      },
      "source": [
        "<a href=\"https://colab.research.google.com/github/tlcty/collab/blob/main/%D0%B4%D0%B7%2025.09.ipynb\" target=\"_parent\"><img src=\"https://colab.research.google.com/assets/colab-badge.svg\" alt=\"Open In Colab\"/></a>"
      ]
    },
    {
      "cell_type": "markdown",
      "source": [],
      "metadata": {
        "id": "eWkt4jRQnHtk"
      }
    },
    {
      "cell_type": "code",
      "source": [
        "from google.colab import drive\n",
        "drive.mount('/content/drive')"
      ],
      "metadata": {
        "id": "ZjxI-6iMchBi"
      },
      "execution_count": null,
      "outputs": []
    },
    {
      "cell_type": "markdown",
      "source": [
        "Дана переменная, в которой хранится четырёхзначное число — год. Необходимо написать программу, которая выведет, является этот год високосным или обычным."
      ],
      "metadata": {
        "id": "XoJ_MuEunMyx"
      }
    },
    {
      "cell_type": "code",
      "source": [
        "def is_lucky_ticket(ticket_number):\n",
        "    # Проверяем, что номер состоит только из цифр и является шестизначным\n",
        "    if not ticket_number.isdigit() or len(ticket_number) != 6:\n",
        "        return \"Номер билета должен быть шестизначным и содержать только цифры!\"\n",
        "\n",
        "    # Разделяем на две половины\n",
        "    first_half = ticket_number[:3]\n",
        "    second_half = ticket_number[3:]\n",
        "\n",
        "    # Считаем суммы первых и последних трёх цифр\n",
        "    first_sum = sum(map(int, first_half))\n",
        "    second_sum = sum(map(int, second_half))\n",
        "\n",
        "    # Проверяем равенство сумм\n",
        "    if first_sum == second_sum:\n",
        "        return \"Счастливый билет!\"\n",
        "    else:\n",
        "        return \"Не является счастливым билетом.\"\n",
        "\n",
        "# Получаем номер билета от пользователя\n",
        "ticket_number = input(\"Введите шестизначный номер билета: \")\n",
        "\n",
        "# Выводим результат\n",
        "print(is_lucky_ticket(ticket_number))"
      ],
      "metadata": {
        "id": "6qa9vhdOmWwe",
        "outputId": "4b4c0145-2ae3-4bb8-8745-7b2a8ef5703e",
        "colab": {
          "base_uri": "https://localhost:8080/"
        }
      },
      "execution_count": null,
      "outputs": [
        {
          "output_type": "stream",
          "name": "stdout",
          "text": [
            "Введите шестизначный номер билета: 123321\n",
            "Счастливый билет!\n"
          ]
        }
      ]
    },
    {
      "cell_type": "markdown",
      "source": [
        "Дана переменная, в которой хранится шестизначное число — номер проездного билета. Напишите программу, которая будет определять, является ли этот билет счастливым. Билет считается счастливым, если сумма первых трёх цифр совпадает с суммой последних трёх цифр номера."
      ],
      "metadata": {
        "id": "WdjRaB2_nPdO"
      }
    },
    {
      "cell_type": "code",
      "source": [
        "def leap_year(year):\n",
        "    if (year % 4 == 0 and year % 100 != 0) or (year % 400 == 0):\n",
        "        return \"Високосный год\"\n",
        "    else:\n",
        "        return \"Обычный год\"\n",
        "\n",
        "# Получаем год от пользователя\n",
        "year = int(input(\"Введите год: \"))\n",
        "print(f\"{year}: {leap_year(year)}\")"
      ],
      "metadata": {
        "id": "Yqr78yyZmuR9",
        "outputId": "7f8f4f59-0661-4053-aa1b-0c378ae9b3b1",
        "colab": {
          "base_uri": "https://localhost:8080/"
        }
      },
      "execution_count": null,
      "outputs": [
        {
          "output_type": "stream",
          "name": "stdout",
          "text": [
            "Введите год: 2024\n",
            "2024: Високосный год\n"
          ]
        }
      ]
    }
  ],
  "metadata": {
    "colab": {
      "provenance": [],
      "include_colab_link": true
    },
    "kernelspec": {
      "display_name": "Python 3",
      "name": "python3"
    }
  },
  "nbformat": 4,
  "nbformat_minor": 0
}