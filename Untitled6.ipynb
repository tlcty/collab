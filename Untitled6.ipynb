{
  "nbformat": 4,
  "nbformat_minor": 0,
  "metadata": {
    "colab": {
      "provenance": [],
      "authorship_tag": "ABX9TyMKcsRz3n5MvTm+fOWdo5c3",
      "include_colab_link": true
    },
    "kernelspec": {
      "name": "python3",
      "display_name": "Python 3"
    },
    "language_info": {
      "name": "python"
    }
  },
  "cells": [
    {
      "cell_type": "markdown",
      "metadata": {
        "id": "view-in-github",
        "colab_type": "text"
      },
      "source": [
        "<a href=\"https://colab.research.google.com/github/tlcty/collab/blob/main/Untitled6.ipynb\" target=\"_parent\"><img src=\"https://colab.research.google.com/assets/colab-badge.svg\" alt=\"Open In Colab\"/></a>"
      ]
    },
    {
      "cell_type": "code",
      "source": [
        "def main():\n",
        "    items = input(\"Введите список товаров через запятую: \").split(',')\n",
        "    items = [item.strip() for item in items]\n",
        "\n",
        "    prices = {}\n",
        "    while True:\n",
        "        store_name = input(\"Введите название магазина (или 'стоп' для завершения ввода): \")\n",
        "        if store_name.lower() == 'стоп':\n",
        "            break\n",
        "\n",
        "        store_prices = []\n",
        "        for item in items:\n",
        "            price = float(input(f\"Введите цену товара '{item}' в магазине '{store_name}': \"))\n",
        "            store_prices.append(price)\n",
        "\n",
        "        prices[store_name] = store_prices\n",
        "\n",
        "    total_costs = {store: sum(prices[store]) for store in prices}\n",
        "\n",
        "    print(\"\\nОбщая стоимость покупок в каждом магазине:\")\n",
        "    for store, total in total_costs.items():\n",
        "        print(f\"{store}: {total:.2f} руб.\")\n",
        "\n",
        "    min_cost = min(total_costs.values())\n",
        "    best_store = [store for store, total in total_costs.items() if total == min_cost]\n",
        "\n",
        "    print(f\"\\nВы можете сэкономить больше всего, купив товары в магазине: {', '.join(best_store)} (стоимость: {min_cost:.2f} руб.)\")\n",
        "\n",
        "if __name__ == \"__main__\":\n",
        "    main()"
      ],
      "metadata": {
        "id": "PXdTAREZAEZz"
      },
      "execution_count": null,
      "outputs": []
    }
  ]
}